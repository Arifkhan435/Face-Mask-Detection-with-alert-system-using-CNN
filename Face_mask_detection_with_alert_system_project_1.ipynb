{
  "nbformat": 4,
  "nbformat_minor": 0,
  "metadata": {
    "colab": {
      "name": "Face mask detection with alert system project_1.ipynb",
      "provenance": []
    },
    "kernelspec": {
      "name": "python3",
      "display_name": "Python 3"
    },
    "language_info": {
      "name": "python"
    }
  },
  "cells": [
    {
      "cell_type": "markdown",
      "source": [
        "# **Face Mask Detection using Transfer Learning with Alert System**"
      ],
      "metadata": {
        "id": "ulVy-32ZQLm1"
      }
    },
    {
      "cell_type": "code",
      "execution_count": null,
      "metadata": {
        "colab": {
          "base_uri": "https://localhost:8080/"
        },
        "id": "TAB9Gl_rPONT",
        "outputId": "c4ad903f-2a76-4074-f2b1-5ba8b0fe83e3"
      },
      "outputs": [
        {
          "output_type": "stream",
          "name": "stdout",
          "text": [
            "Mounted at /content/drive\n"
          ]
        }
      ],
      "source": [
        "## Mounted Drive\n",
        "from google.colab import drive\n",
        "drive.mount('/content/drive')"
      ]
    },
    {
      "cell_type": "code",
      "source": [
        "import os\n",
        "os.chdir(\"/content/drive/My Drive/Project_Work\")\n",
        "Dataset = 'dataset'\n",
        "Data_Dir = os.listdir(Dataset)\n",
        "print(Data_Dir)"
      ],
      "metadata": {
        "colab": {
          "base_uri": "https://localhost:8080/"
        },
        "id": "qfqGHaLsPuHs",
        "outputId": "e6020d27-bf8a-42fa-e724-5a6173a8ae18"
      },
      "execution_count": null,
      "outputs": [
        {
          "output_type": "stream",
          "name": "stdout",
          "text": [
            "['with_mask', 'without_mask']\n"
          ]
        }
      ]
    },
    {
      "cell_type": "code",
      "source": [
        "## Importing necessary Libraries \n",
        "import cv2\n",
        "import numpy as np\n",
        "import pandas as pd\n",
        "import tensorflow as tf\n",
        "from tensorflow.keras.utils import to_categorical\n",
        "from sklearn.preprocessing import LabelBinarizer\n"
      ],
      "metadata": {
        "id": "1USV16YtPvjz"
      },
      "execution_count": null,
      "outputs": []
    },
    {
      "cell_type": "code",
      "source": [
        "##Set image  size\n",
        "img_rows, img_cols = 112,112\n",
        "images = []\n",
        "labels = []"
      ],
      "metadata": {
        "id": "WtoPAJH0W5_y"
      },
      "execution_count": null,
      "outputs": []
    },
    {
      "cell_type": "code",
      "source": [
        "for category in Data_Dir:\n",
        "  folder_path = os.path.join(Dataset,category)\n",
        "  for img in os.listdir(folder_path):\n",
        "    img_path = os.path.join(folder_path, img)\n",
        "    img = cv2.imread(img_path)\n",
        "\n",
        "    try:\n",
        "      #converting the Image into gray Scale\n",
        "      grayscale_img = cv2.cvtColor(img,cv2.COLOR_BGR2GRAY)\n",
        "\n",
        "      #Resizing the gray scaled image in order to keep size of the images consistent\n",
        "      resized_img = cv2.resize(grayscale_img,(img_rows,img_cols))\n",
        "      images.append(resized_img)\n",
        "      labels.append(category)\n",
        "    # Exception Handling\n",
        "    except Exception as e:\n",
        "      print(\"Exception:\",e)\n",
        "\n",
        "images = np.array(images)/255.0\n",
        "images = np.reshape(images,(images.shape[0],img_rows,img_cols,1))\n",
        "\n",
        "# perform One hot encoding on the label sine the label are in textual form\n",
        "\n",
        "lb = LabelBinarizer()\n",
        "labels = lb.fit_transform(labels)\n",
        "labels = to_categorical(labels)\n",
        "labels = np.array(labels)"
      ],
      "metadata": {
        "id": "BAlCdQv5P84A"
      },
      "execution_count": null,
      "outputs": []
    },
    {
      "cell_type": "code",
      "source": [
        "## train test split of dataset\n",
        "from sklearn.model_selection import train_test_split\n",
        "x_train, x_test, y_train, y_test = train_test_split(images,labels,test_size=0.25, random_state=0)"
      ],
      "metadata": {
        "id": "POCUQyGJR9jN"
      },
      "execution_count": null,
      "outputs": []
    },
    {
      "cell_type": "code",
      "source": [
        ""
      ],
      "metadata": {
        "id": "9SW1tJISXi3c"
      },
      "execution_count": null,
      "outputs": []
    },
    {
      "cell_type": "markdown",
      "source": [
        "# **Building CNN Classification Model**"
      ],
      "metadata": {
        "id": "jhKfxtWOXo0F"
      }
    },
    {
      "cell_type": "code",
      "source": [
        "# import Necessary Keras Libraries\n",
        "\n",
        "import tensorflow as tf\n",
        "from keras.models import Sequential\n",
        "from keras.layers import Dense,Activation, Flatten,Dropout\n",
        "from keras.layers import Conv2D, MaxPooling2D"
      ],
      "metadata": {
        "id": "8EEEy5CNXqp-"
      },
      "execution_count": null,
      "outputs": []
    },
    {
      "cell_type": "code",
      "source": [
        "# Define model parameters\n",
        "num_classes = 2\n",
        "batch_size = 32\n",
        "\n",
        "# Build CNN Model using Sequential API\n",
        "model = Sequential()\n",
        "\n",
        "#First layer group containing Convolution, Relu and Maxpooling layers\n",
        "model.add(Conv2D(64,(3,3), input_shape=(img_rows, img_cols,1)))\n",
        "model.add(Activation('relu'))\n",
        "model.add(MaxPooling2D(pool_size=(2,2)))\n",
        "\n",
        "\n",
        "# Second layer Group containing Convolution, relu and MaxPooling layers\n",
        "model.add(Conv2D(128,(3,3)))\n",
        "model.add(Activation('relu'))\n",
        "model.add(MaxPooling2D(pool_size=(2,2)))\n",
        "\n",
        "# Third layer Group containing Convolution, relu and MaxPooling layers\n",
        "model.add(Conv2D(256,(3,3)))\n",
        "model.add(Activation('relu'))\n",
        "model.add(MaxPooling2D(pool_size=(2,2)))\n",
        "\n",
        "# Flatten and Dropout layers to stack the output Convolutions layer\n",
        "\n",
        "model.add(Flatten())\n",
        "model.add(Dropout(0.2))\n",
        "\n",
        "# Softmax Classifier\n",
        "\n",
        "##final dense layer\n",
        "model.add(Dense(64,activation='relu'))\n",
        "\n",
        "##final output layer\n",
        "model.add(Dense(num_classes,activation='softmax'))\n",
        "\n",
        "print(model.summary())"
      ],
      "metadata": {
        "colab": {
          "base_uri": "https://localhost:8080/"
        },
        "id": "HUVrUx5dXv8h",
        "outputId": "34eceee2-5219-4692-a358-90394e03d82e"
      },
      "execution_count": null,
      "outputs": [
        {
          "output_type": "stream",
          "name": "stdout",
          "text": [
            "Model: \"sequential_1\"\n",
            "_________________________________________________________________\n",
            " Layer (type)                Output Shape              Param #   \n",
            "=================================================================\n",
            " conv2d_3 (Conv2D)           (None, 110, 110, 64)      640       \n",
            "                                                                 \n",
            " activation_3 (Activation)   (None, 110, 110, 64)      0         \n",
            "                                                                 \n",
            " max_pooling2d_3 (MaxPooling  (None, 55, 55, 64)       0         \n",
            " 2D)                                                             \n",
            "                                                                 \n",
            " conv2d_4 (Conv2D)           (None, 53, 53, 128)       73856     \n",
            "                                                                 \n",
            " activation_4 (Activation)   (None, 53, 53, 128)       0         \n",
            "                                                                 \n",
            " max_pooling2d_4 (MaxPooling  (None, 26, 26, 128)      0         \n",
            " 2D)                                                             \n",
            "                                                                 \n",
            " conv2d_5 (Conv2D)           (None, 24, 24, 256)       295168    \n",
            "                                                                 \n",
            " activation_5 (Activation)   (None, 24, 24, 256)       0         \n",
            "                                                                 \n",
            " max_pooling2d_5 (MaxPooling  (None, 12, 12, 256)      0         \n",
            " 2D)                                                             \n",
            "                                                                 \n",
            " flatten_1 (Flatten)         (None, 36864)             0         \n",
            "                                                                 \n",
            " dropout_1 (Dropout)         (None, 36864)             0         \n",
            "                                                                 \n",
            " dense_2 (Dense)             (None, 64)                2359360   \n",
            "                                                                 \n",
            " dense_3 (Dense)             (None, 2)                 130       \n",
            "                                                                 \n",
            "=================================================================\n",
            "Total params: 2,729,154\n",
            "Trainable params: 2,729,154\n",
            "Non-trainable params: 0\n",
            "_________________________________________________________________\n",
            "None\n"
          ]
        }
      ]
    },
    {
      "cell_type": "markdown",
      "source": [
        "# **Plot the Model**"
      ],
      "metadata": {
        "id": "VnCG8JE3Ye32"
      }
    },
    {
      "cell_type": "code",
      "source": [
        "from keras.utils.vis_utils import plot_model\n",
        "plot_model(model, to_file='face_mask_detection_architecture.png')"
      ],
      "metadata": {
        "colab": {
          "base_uri": "https://localhost:8080/",
          "height": 1000
        },
        "id": "Kn7W6qJdYeMm",
        "outputId": "0fcfe863-cfc3-4a0a-b06a-7a5f19eb5a16"
      },
      "execution_count": null,
      "outputs": [
        {
          "output_type": "execute_result",
          "data": {
            "text/plain": [
              "<IPython.core.display.Image object>"
            ],
            "image/png": "[encoded data removed]"
          },
          "metadata": {},
          "execution_count": 31
        }
      ]
    },
    {
      "cell_type": "markdown",
      "source": [
        "# **Train the Classifier Model**"
      ],
      "metadata": {
        "id": "S0hPdFnrYqxm"
      }
    },
    {
      "cell_type": "code",
      "source": [
        "import tensorflow as tf\n",
        "from tensorflow import keras\n",
        "from tensorflow.keras.optimizers import Adam\n",
        "\n",
        "epochs = 50\n",
        "\n",
        "## Compile the model\n",
        "model.compile(loss='categorical_crossentropy',\n",
        "              optimizer = Adam(learning_rate=0.001),\n",
        "              metrics = ['accuracy'])\n",
        "\n",
        "## fit the model on the training set \n",
        "fitted_model = model.fit(\n",
        "    x_train,\n",
        "    y_train,\n",
        "    epochs = epochs,\n",
        "    validation_split = 0.25)"
      ],
      "metadata": {
        "colab": {
          "base_uri": "https://localhost:8080/"
        },
        "id": "RsmewRXhYp9D",
        "outputId": "c22f3ced-4892-4f2d-967e-c92cd08b9fad"
      },
      "execution_count": null,
      "outputs": [
        {
          "output_type": "stream",
          "name": "stdout",
          "text": [
            "Epoch 1/50\n",
            "68/68 [==============================] - 121s 2s/step - loss: 0.6217 - accuracy: 0.6375 - val_loss: 0.5506 - val_accuracy: 0.7058\n",
            "Epoch 2/50\n",
            "68/68 [==============================] - 119s 2s/step - loss: 0.4882 - accuracy: 0.7812 - val_loss: 0.4634 - val_accuracy: 0.7831\n",
            "Epoch 3/50\n",
            "68/68 [==============================] - 119s 2s/step - loss: 0.3479 - accuracy: 0.8498 - val_loss: 0.3655 - val_accuracy: 0.8356\n",
            "Epoch 4/50\n",
            "68/68 [==============================] - 118s 2s/step - loss: 0.2442 - accuracy: 0.9005 - val_loss: 0.2789 - val_accuracy: 0.9006\n",
            "Epoch 5/50\n",
            "68/68 [==============================] - 118s 2s/step - loss: 0.1891 - accuracy: 0.9208 - val_loss: 0.3036 - val_accuracy: 0.8867\n",
            "Epoch 6/50\n",
            "68/68 [==============================] - 118s 2s/step - loss: 0.1290 - accuracy: 0.9461 - val_loss: 0.3130 - val_accuracy: 0.8826\n",
            "Epoch 7/50\n",
            "68/68 [==============================] - 118s 2s/step - loss: 0.0866 - accuracy: 0.9655 - val_loss: 0.3020 - val_accuracy: 0.8923\n",
            "Epoch 8/50\n",
            "68/68 [==============================] - 118s 2s/step - loss: 0.0662 - accuracy: 0.9737 - val_loss: 0.3323 - val_accuracy: 0.8923\n",
            "Epoch 9/50\n",
            "68/68 [==============================] - 118s 2s/step - loss: 0.0499 - accuracy: 0.9820 - val_loss: 0.3757 - val_accuracy: 0.8950\n",
            "Epoch 10/50\n",
            "68/68 [==============================] - 118s 2s/step - loss: 0.0359 - accuracy: 0.9889 - val_loss: 0.4031 - val_accuracy: 0.9047\n",
            "Epoch 11/50\n",
            "68/68 [==============================] - 128s 2s/step - loss: 0.0257 - accuracy: 0.9922 - val_loss: 0.4288 - val_accuracy: 0.9157\n",
            "Epoch 12/50\n",
            "68/68 [==============================] - 119s 2s/step - loss: 0.0344 - accuracy: 0.9876 - val_loss: 0.3520 - val_accuracy: 0.9144\n",
            "Epoch 13/50\n",
            "68/68 [==============================] - 121s 2s/step - loss: 0.0158 - accuracy: 0.9959 - val_loss: 0.4059 - val_accuracy: 0.9033\n",
            "Epoch 14/50\n",
            "68/68 [==============================] - 117s 2s/step - loss: 0.0641 - accuracy: 0.9765 - val_loss: 0.4449 - val_accuracy: 0.8992\n",
            "Epoch 15/50\n",
            "68/68 [==============================] - 121s 2s/step - loss: 0.0217 - accuracy: 0.9940 - val_loss: 0.4617 - val_accuracy: 0.9199\n",
            "Epoch 16/50\n",
            "68/68 [==============================] - 117s 2s/step - loss: 0.0060 - accuracy: 0.9995 - val_loss: 0.5005 - val_accuracy: 0.9061\n",
            "Epoch 17/50\n",
            "68/68 [==============================] - 119s 2s/step - loss: 0.0032 - accuracy: 0.9991 - val_loss: 0.5043 - val_accuracy: 0.9047\n",
            "Epoch 18/50\n",
            "68/68 [==============================] - 118s 2s/step - loss: 0.0024 - accuracy: 1.0000 - val_loss: 0.5289 - val_accuracy: 0.9130\n",
            "Epoch 19/50\n",
            "68/68 [==============================] - 120s 2s/step - loss: 0.0029 - accuracy: 0.9995 - val_loss: 0.5602 - val_accuracy: 0.9088\n",
            "Epoch 20/50\n",
            "68/68 [==============================] - 120s 2s/step - loss: 0.0016 - accuracy: 0.9995 - val_loss: 0.5857 - val_accuracy: 0.9102\n",
            "Epoch 21/50\n",
            "68/68 [==============================] - 118s 2s/step - loss: 5.5279e-04 - accuracy: 1.0000 - val_loss: 0.6015 - val_accuracy: 0.9116\n",
            "Epoch 22/50\n",
            "68/68 [==============================] - 120s 2s/step - loss: 7.4546e-04 - accuracy: 1.0000 - val_loss: 0.6300 - val_accuracy: 0.9102\n",
            "Epoch 23/50\n",
            "68/68 [==============================] - 119s 2s/step - loss: 4.3037e-04 - accuracy: 1.0000 - val_loss: 0.6374 - val_accuracy: 0.9088\n",
            "Epoch 24/50\n",
            "68/68 [==============================] - 120s 2s/step - loss: 3.6071e-04 - accuracy: 1.0000 - val_loss: 0.6644 - val_accuracy: 0.9088\n",
            "Epoch 25/50\n",
            "68/68 [==============================] - 119s 2s/step - loss: 1.8718e-04 - accuracy: 1.0000 - val_loss: 0.6754 - val_accuracy: 0.9116\n",
            "Epoch 26/50\n",
            "68/68 [==============================] - 120s 2s/step - loss: 2.1585e-04 - accuracy: 1.0000 - val_loss: 0.6540 - val_accuracy: 0.9102\n",
            "Epoch 27/50\n",
            "68/68 [==============================] - 119s 2s/step - loss: 1.7157e-04 - accuracy: 1.0000 - val_loss: 0.6721 - val_accuracy: 0.9102\n",
            "Epoch 28/50\n",
            "68/68 [==============================] - 121s 2s/step - loss: 1.1286e-04 - accuracy: 1.0000 - val_loss: 0.6751 - val_accuracy: 0.9116\n",
            "Epoch 29/50\n",
            "68/68 [==============================] - 121s 2s/step - loss: 1.2295e-04 - accuracy: 1.0000 - val_loss: 0.6889 - val_accuracy: 0.9116\n",
            "Epoch 30/50\n",
            "68/68 [==============================] - 121s 2s/step - loss: 9.6976e-05 - accuracy: 1.0000 - val_loss: 0.7048 - val_accuracy: 0.9102\n",
            "Epoch 31/50\n",
            "68/68 [==============================] - 119s 2s/step - loss: 1.7525e-04 - accuracy: 1.0000 - val_loss: 0.7113 - val_accuracy: 0.9102\n",
            "Epoch 32/50\n",
            "68/68 [==============================] - 121s 2s/step - loss: 1.3965e-04 - accuracy: 1.0000 - val_loss: 0.6970 - val_accuracy: 0.9144\n",
            "Epoch 33/50\n",
            "68/68 [==============================] - 119s 2s/step - loss: 1.0327e-04 - accuracy: 1.0000 - val_loss: 0.7098 - val_accuracy: 0.9144\n",
            "Epoch 34/50\n",
            "68/68 [==============================] - 121s 2s/step - loss: 1.2215e-04 - accuracy: 1.0000 - val_loss: 0.7179 - val_accuracy: 0.9171\n",
            "Epoch 35/50\n",
            "68/68 [==============================] - 119s 2s/step - loss: 1.0088e-04 - accuracy: 1.0000 - val_loss: 0.7255 - val_accuracy: 0.9130\n",
            "Epoch 36/50\n",
            "68/68 [==============================] - 120s 2s/step - loss: 0.0785 - accuracy: 0.9760 - val_loss: 0.4774 - val_accuracy: 0.8771\n",
            "Epoch 37/50\n",
            "68/68 [==============================] - 117s 2s/step - loss: 0.0767 - accuracy: 0.9696 - val_loss: 0.3815 - val_accuracy: 0.9019\n",
            "Epoch 38/50\n",
            "68/68 [==============================] - 119s 2s/step - loss: 0.0239 - accuracy: 0.9912 - val_loss: 0.4928 - val_accuracy: 0.9116\n",
            "Epoch 39/50\n",
            "68/68 [==============================] - 118s 2s/step - loss: 0.0036 - accuracy: 0.9995 - val_loss: 0.5626 - val_accuracy: 0.9102\n",
            "Epoch 40/50\n",
            "68/68 [==============================] - 120s 2s/step - loss: 0.0090 - accuracy: 0.9977 - val_loss: 0.6181 - val_accuracy: 0.9061\n",
            "Epoch 41/50\n",
            "68/68 [==============================] - 117s 2s/step - loss: 0.0269 - accuracy: 0.9926 - val_loss: 0.5367 - val_accuracy: 0.9047\n",
            "Epoch 42/50\n",
            "68/68 [==============================] - 117s 2s/step - loss: 0.0039 - accuracy: 0.9991 - val_loss: 0.5450 - val_accuracy: 0.9185\n",
            "Epoch 43/50\n",
            "68/68 [==============================] - 117s 2s/step - loss: 0.0013 - accuracy: 1.0000 - val_loss: 0.5954 - val_accuracy: 0.9171\n",
            "Epoch 44/50\n",
            "68/68 [==============================] - 118s 2s/step - loss: 7.3168e-04 - accuracy: 1.0000 - val_loss: 0.6929 - val_accuracy: 0.9144\n",
            "Epoch 45/50\n",
            "68/68 [==============================] - 118s 2s/step - loss: 8.1891e-04 - accuracy: 1.0000 - val_loss: 0.6513 - val_accuracy: 0.9240\n",
            "Epoch 46/50\n",
            "68/68 [==============================] - 118s 2s/step - loss: 0.0052 - accuracy: 0.9982 - val_loss: 0.6013 - val_accuracy: 0.9075\n",
            "Epoch 47/50\n",
            "68/68 [==============================] - 121s 2s/step - loss: 9.7781e-04 - accuracy: 1.0000 - val_loss: 0.6378 - val_accuracy: 0.9213\n",
            "Epoch 48/50\n",
            "68/68 [==============================] - 118s 2s/step - loss: 2.2224e-04 - accuracy: 1.0000 - val_loss: 0.6480 - val_accuracy: 0.9213\n",
            "Epoch 49/50\n",
            "68/68 [==============================] - 121s 2s/step - loss: 1.5997e-04 - accuracy: 1.0000 - val_loss: 0.6671 - val_accuracy: 0.9199\n",
            "Epoch 50/50\n",
            "68/68 [==============================] - 120s 2s/step - loss: 2.5693e-04 - accuracy: 1.0000 - val_loss: 0.6993 - val_accuracy: 0.9171\n"
          ]
        }
      ]
    },
    {
      "cell_type": "code",
      "source": [
        "#Plot the Model Accuracy\n",
        "from matplotlib import pyplot as plt\n",
        "plt.plot(fitted_model.history['accuracy'],'r', label='training accuracy')\n",
        "plt.plot(fitted_model.history['val_accuracy'],'g',label='validation accuracy')\n",
        "plt.xlabel('Number of Epochs')\n",
        "plt.ylabel('Accuracy Value')\n",
        "plt.legend()\n",
        "plt.show()"
      ],
      "metadata": {
        "colab": {
          "base_uri": "https://localhost:8080/",
          "height": 279
        },
        "id": "wWH_FKIwY_sr",
        "outputId": "80a4b5fa-1547-4ac2-d0ed-7ac605c786a5"
      },
      "execution_count": null,
      "outputs": [
        {
          "output_type": "display_data",
          "data": {
            "text/plain": [
              "<Figure size 432x288 with 1 Axes>"
            ],
            "image/png": "[encoded data removed]"
          },
          "metadata": {
            "needs_background": "light"
          }
        }
      ]
    },
    {
      "cell_type": "code",
      "source": [
        "## Plot the Model Loss\n",
        "plt.plot(fitted_model.history['loss'],'r', label='training loss')\n",
        "plt.plot(fitted_model.history['val_loss'],'g',label='validation loss')\n",
        "plt.xlabel('Number of Epochs')\n",
        "plt.ylabel('Loss Value')\n",
        "plt.legend()\n",
        "plt.show()"
      ],
      "metadata": {
        "colab": {
          "base_uri": "https://localhost:8080/",
          "height": 279
        },
        "id": "E6VXcWNVYxlP",
        "outputId": "ed208da4-c972-4ffc-adcc-f2ab2a2141a3"
      },
      "execution_count": null,
      "outputs": [
        {
          "output_type": "display_data",
          "data": {
            "text/plain": [
              "<Figure size 432x288 with 1 Axes>"
            ],
            "image/png": "[encoded data removed]"
          },
          "metadata": {
            "needs_background": "light"
          }
        }
      ]
    },
    {
      "cell_type": "markdown",
      "source": [
        "# **Test data Accuracy**"
      ],
      "metadata": {
        "id": "AhNlmbyk2B6P"
      }
    },
    {
      "cell_type": "code",
      "source": [
        "model.evaluate(x_test, y_test)"
      ],
      "metadata": {
        "colab": {
          "base_uri": "https://localhost:8080/"
        },
        "id": "I1U4j1Iz1I3d",
        "outputId": "287ed18a-bb31-4c5b-b48b-7f39aa5ac3a5"
      },
      "execution_count": 49,
      "outputs": [
        {
          "output_type": "stream",
          "name": "stdout",
          "text": [
            "31/31 [==============================] - 13s 407ms/step - loss: 0.4035 - accuracy: 0.9368\n"
          ]
        },
        {
          "output_type": "execute_result",
          "data": {
            "text/plain": [
              "[0.4035033583641052, 0.9367875456809998]"
            ]
          },
          "metadata": {},
          "execution_count": 49
        }
      ]
    },
    {
      "cell_type": "code",
      "source": [
        ""
      ],
      "metadata": {
        "id": "5NPzkkwSTzZA"
      },
      "execution_count": null,
      "outputs": []
    },
    {
      "cell_type": "code",
      "source": [
        "y_pred = (model.predict(x_test) > 0.5).astype('int32')"
      ],
      "metadata": {
        "id": "pk7SXMjyTzXa"
      },
      "execution_count": 50,
      "outputs": []
    },
    {
      "cell_type": "code",
      "source": [
        "from sklearn.metrics import confusion_matrix, accuracy_score"
      ],
      "metadata": {
        "id": "ck83mF4oTm8V"
      },
      "execution_count": 51,
      "outputs": []
    },
    {
      "cell_type": "code",
      "source": [
        "## Accuracy of the model\n",
        "print(accuracy_score(y_test, y_pred))"
      ],
      "metadata": {
        "colab": {
          "base_uri": "https://localhost:8080/"
        },
        "id": "4iJsENMaT1Oq",
        "outputId": "568a8612-abed-44a8-ce94-9deb3f8b569f"
      },
      "execution_count": 52,
      "outputs": [
        {
          "output_type": "stream",
          "name": "stdout",
          "text": [
            "0.9367875647668393\n"
          ]
        }
      ]
    },
    {
      "cell_type": "markdown",
      "source": [
        "# **Save the Classifier Model**"
      ],
      "metadata": {
        "id": "B_lH-9r57rjd"
      }
    },
    {
      "cell_type": "code",
      "source": [
        "model.save('face_mask_detection_with_alert_system.h5')"
      ],
      "metadata": {
        "id": "GWAi4wvQ0OQV"
      },
      "execution_count": null,
      "outputs": []
    },
    {
      "cell_type": "code",
      "source": [
        ""
      ],
      "metadata": {
        "id": "SPrLZtnrToCB"
      },
      "execution_count": null,
      "outputs": []
    }
  ]
}