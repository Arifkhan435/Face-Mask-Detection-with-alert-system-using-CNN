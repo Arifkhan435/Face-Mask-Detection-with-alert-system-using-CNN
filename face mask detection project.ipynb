{
 "cells": [
  {
   "cell_type": "markdown",
   "id": "69adc4b5",
   "metadata": {},
   "source": [
    "# Face mask detection with alert system"
   ]
  },
  {
   "cell_type": "code",
   "execution_count": 2,
   "id": "d03ad2e5",
   "metadata": {},
   "outputs": [],
   "source": [
    "##Importing necessary Libraries\n",
    "from keras.models import load_model\n",
    "import cv2\n",
    "import numpy as np\n",
    "import tkinter\n",
    "from tkinter import messagebox\n",
    "import smtplib\n",
    "import tkinter"
   ]
  },
  {
   "cell_type": "code",
   "execution_count": 4,
   "id": "b380f2b0",
   "metadata": {},
   "outputs": [
    {
     "data": {
      "text/plain": [
       "'C:\\\\Users\\\\Arif Khan'"
      ]
     },
     "execution_count": 4,
     "metadata": {},
     "output_type": "execute_result"
    }
   ],
   "source": [
    "import os\n",
    "os.getcwd()"
   ]
  },
  {
   "cell_type": "code",
   "execution_count": 5,
   "id": "4ce613e8",
   "metadata": {},
   "outputs": [],
   "source": [
    "# Initialize Tkinter\n",
    "root = tkinter.Tk()\n",
    "root.withdraw()\n",
    "\n",
    "# Load trained Deep Learning Model\n",
    "model = load_model('face_mask_detection_with_alert_system.h5')\n",
    "\n",
    "# Classifier to Detect Face\n",
    "face_det_classifier = cv2.CascadeClassifier('haarcascade_frontalface_default.xml')\n",
    "\n",
    "# Capture Video\n",
    "vid_source = cv2.VideoCapture(0)\n",
    "\n",
    "\n",
    "text_dict = {0:'Mask ON',1:'No Mask'}\n",
    "rect_color_dict = {0:(0,255,0),1:(0,0,255)}"
   ]
  },
  {
   "cell_type": "code",
   "execution_count": 6,
   "id": "c88edc4c",
   "metadata": {},
   "outputs": [],
   "source": [
    "SUBJECT = \"Subject\"\n",
    "TEXT = \"One visiter violated face mask policy. See in the camera to recognize user. A Person has been detected without a face mask.\""
   ]
  },
  {
   "cell_type": "code",
   "execution_count": null,
   "id": "d8723e75",
   "metadata": {},
   "outputs": [],
   "source": [
    "# While loop to continuously detect camera feed\n",
    "while(True):\n",
    "\n",
    "  ret,img = vid_source.read()\n",
    "  grayscale_img = cv2.cvtColor(img,cv2.COLOR_BGR2GRAY)\n",
    "  faces = face_det_classifier.detectMultiScale(grayscale_img,1.3,5)\n",
    "\n",
    "  for (x,y,w,h) in faces:\n",
    "    face_img = grayscale_img[y:y+w,x:x+w]\n",
    "    resized_img = cv2.resize(face_img,(112,112))\n",
    "    normalized_img = resized_img/255.0\n",
    "    reshaped_img = np.reshape(normalized_img,(1,112,112,1))\n",
    "    result = model.predict(reshaped_img)\n",
    "\n",
    "    label = np.argmax(result,axis=1)[0]\n",
    "\n",
    "    cv2.rectangle(img,(x,y),(x+w,y+h),rect_color_dict[label],2)\n",
    "    cv2.rectangle(img,(x,y-40),(x+w,y),rect_color_dict[label],-1)\n",
    "    cv2.putText(img,text_dict[label],(x,y-10),cv2.FONT_HERSHEY_SIMPLEX,0.8,(0,0,0),2)\n",
    "    \n",
    "    ## If label=1 then it means wearing No Mask and 0 means wearing Mask\n",
    "\n",
    "    if (label==1): \n",
    "        \n",
    "        # throw a warning message to tell user to wear a mask if not wearning one. This will stay open and \n",
    "        # No Access will be given.\n",
    "        \n",
    "      messagebox.showwarning(\"Warning\",\"Access Denied. Please Wear a Face Mask\")\n",
    "    \n",
    "    ## Send a mail to the administrator if access denied/User not wearing face mask \n",
    "\n",
    "      message = 'Subject: {}\\n\\n{}'.format(SUBJECT, TEXT)\n",
    "      mail = smtplib.SMTP('smtp.gmail.com', 587)\n",
    "      mail.ehlo()\n",
    "      mail.starttls()\n",
    "      mail.login('arifkhan435@gmail.com', '9772878395')\n",
    "      mail.sendmail('arifkhan435@gmail.com', 'arifkhan435@gmail.com', message)\n",
    "      mail.close\n",
    "    else:\n",
    "      pass\n",
    "      break\n",
    "\n",
    "  cv2.imshow('LIVE Video Feed',img)\n",
    "  key = cv2.waitKey(1)\n",
    "\n",
    "  if (key==27):\n",
    "    break\n",
    "\n",
    "cv2.destroyAllWindows()\n",
    "source.release()"
   ]
  },
  {
   "cell_type": "code",
   "execution_count": null,
   "id": "cc247db4",
   "metadata": {},
   "outputs": [],
   "source": []
  }
 ],
 "metadata": {
  "kernelspec": {
   "display_name": "Python 3",
   "language": "python",
   "name": "python3"
  },
  "language_info": {
   "codemirror_mode": {
    "name": "ipython",
    "version": 3
   },
   "file_extension": ".py",
   "mimetype": "text/x-python",
   "name": "python",
   "nbconvert_exporter": "python",
   "pygments_lexer": "ipython3",
   "version": "3.8.8"
  }
 },
 "nbformat": 4,
 "nbformat_minor": 5
}
